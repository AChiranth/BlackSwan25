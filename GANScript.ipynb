{
 "cells": [
  {
   "cell_type": "code",
   "execution_count": 1,
   "id": "a32e6386-8caf-4e6c-a43d-87fc8420cdb3",
   "metadata": {
    "tags": []
   },
   "outputs": [
    {
     "name": "stderr",
     "output_type": "stream",
     "text": [
      "2025-03-30 10:12:28.906972: I tensorflow/core/util/port.cc:111] oneDNN custom operations are on. You may see slightly different numerical results due to floating-point round-off errors from different computation orders. To turn them off, set the environment variable `TF_ENABLE_ONEDNN_OPTS=0`.\n",
      "2025-03-30 10:12:29.939542: I tensorflow/tsl/cuda/cudart_stub.cc:28] Could not find cuda drivers on your machine, GPU will not be used.\n",
      "2025-03-30 10:12:31.154565: E tensorflow/compiler/xla/stream_executor/cuda/cuda_dnn.cc:9342] Unable to register cuDNN factory: Attempting to register factory for plugin cuDNN when one has already been registered\n",
      "2025-03-30 10:12:31.154615: E tensorflow/compiler/xla/stream_executor/cuda/cuda_fft.cc:609] Unable to register cuFFT factory: Attempting to register factory for plugin cuFFT when one has already been registered\n",
      "2025-03-30 10:12:31.176592: E tensorflow/compiler/xla/stream_executor/cuda/cuda_blas.cc:1518] Unable to register cuBLAS factory: Attempting to register factory for plugin cuBLAS when one has already been registered\n",
      "2025-03-30 10:12:31.758252: I tensorflow/tsl/cuda/cudart_stub.cc:28] Could not find cuda drivers on your machine, GPU will not be used.\n",
      "2025-03-30 10:12:31.759618: I tensorflow/core/platform/cpu_feature_guard.cc:182] This TensorFlow binary is optimized to use available CPU instructions in performance-critical operations.\n",
      "To enable the following instructions: AVX2 AVX512F AVX512_VNNI FMA, in other operations, rebuild TensorFlow with the appropriate compiler flags.\n",
      "2025-03-30 10:12:39.953365: W tensorflow/compiler/tf2tensorrt/utils/py_utils.cc:38] TF-TRT Warning: Could not find TensorRT\n"
     ]
    }
   ],
   "source": [
    "## Necessary packages\n",
    "from __future__ import absolute_import\n",
    "from __future__ import division\n",
    "from __future__ import print_function\n",
    "\n",
    "import numpy as np\n",
    "\n",
    "import tensorflow as tf\n",
    "tf.compat.v1.disable_eager_execution()\n",
    "import logging\n",
    "tf.get_logger().setLevel(logging.ERROR)\n",
    "\n",
    "# 1. SeriesGan model\n",
    "from seriesgan import seriesgan\n",
    "\n",
    "# 2. Data loading\n",
    "from data_loading import real_data_loading, sine_data_generation\n",
    "# 3. Metrics\n",
    "from metrics.discriminative_metrics import discriminative_score_metrics\n",
    "from metrics.predictive_metrics import predictive_score_metrics\n",
    "from metrics.visualization_metrics import visualization"
   ]
  },
  {
   "cell_type": "code",
   "execution_count": 2,
   "id": "b15d7417-7bb7-4941-8a58-26f5480ada60",
   "metadata": {
    "tags": []
   },
   "outputs": [],
   "source": [
    "import pandas as pd\n",
    "from sklearn.preprocessing import MinMaxScaler\n",
    "import os"
   ]
  },
  {
   "cell_type": "code",
   "execution_count": 3,
   "id": "d7f12107-f879-4e97-9064-b8b04d8706ac",
   "metadata": {
    "tags": []
   },
   "outputs": [],
   "source": [
    "stocks = ['AABA']"
   ]
  },
  {
   "cell_type": "code",
   "execution_count": 4,
   "id": "633faa6b-1885-4c96-bd1f-ca09f5f74796",
   "metadata": {
    "tags": []
   },
   "outputs": [
    {
     "name": "stderr",
     "output_type": "stream",
     "text": [
      "2025-03-30 10:13:38.669078: W tensorflow/core/common_runtime/gpu/gpu_device.cc:2211] Cannot dlopen some GPU libraries. Please make sure the missing libraries mentioned above are installed properly if you would like to use GPU. Follow the guide at https://www.tensorflow.org/install/gpu for how to download and setup the required libraries for your platform.\n",
      "Skipping registering GPU devices...\n",
      "2025-03-30 10:13:39.045269: I tensorflow/compiler/mlir/mlir_graph_optimization_pass.cc:382] MLIR V1 optimization pass is not enabled\n"
     ]
    },
    {
     "name": "stdout",
     "output_type": "stream",
     "text": [
      "Start Autoencoder Training for Loss\n",
      "step: 0/2000, AE_loss: 0.1184\n",
      "step: 1000/2000, AE_loss: 0.0008\n",
      "step: 1998/2000, AE_loss: 0.0005\n",
      "Finish Autoencoder Training for Loss\n",
      "Start Embedding Network Training\n",
      "step: 0/2000, AE_loss: 0.3186, AE_D_loss: 0.9274\n",
      "step: 1000/2000, AE_loss: 0.025, AE_D_loss: 0.4917\n",
      "step: 1998/2000, AE_loss: 0.0243, AE_D_loss: 0.4864\n",
      "Finish Embedding Network Training\n",
      "Start Training with Supervised Loss Only\n",
      "step: 0/2000, S_loss: 0.6212\n",
      "step: 1000/2000, S_loss: 0.0108\n",
      "step: 1999/2000, S_loss: 0.001\n",
      "Finish Training with Supervised Loss Only\n",
      "Start Joint Training\n",
      "step: 0/2000, D_loss: 0.9441, G_loss: 14.8084, G_loss_u: 3.0196, G_loss_s: 0.0012, G_loss_ts: 0.2485, AE_loss: 0.072, AE_D_loss: 0.6815\n",
      "step: 1000/2000, D_loss: 0.3873, G_loss: 2.9831, G_loss_u: 1.9754, G_loss_s: 0.0005, G_loss_ts: 0.0013, AE_loss: 0.0187, AE_D_loss: 0.8699\n",
      "step: 1999/2000, D_loss: 0.4779, G_loss: 2.6793, G_loss_u: 1.677, G_loss_s: 0.0003, G_loss_ts: 0.0013, AE_loss: 0.0209, AE_D_loss: 0.9261\n",
      "Finish Joint Training\n"
     ]
    }
   ],
   "source": [
    "## Newtork parameters\n",
    "parameters = dict()\n",
    "\n",
    "parameters['hidden_dim'] = 'same'\n",
    "parameters['iterations'] = 2000\n",
    "parameters['batch_size'] = 128\n",
    "parameters['num_layer'] = 4\n",
    "\n",
    "for stock in stocks:\n",
    "    seq_len = 24\n",
    "    data_name = 'stock'\n",
    "    original_data = real_data_loading(data_name, seq_len, stock)\n",
    "    \n",
    "    seriesgan_result = seriesgan(original_data, parameters, 'same')\n",
    "    \n",
    "    ori_data = pd.read_csv(f'data/{stock}.csv')\n",
    "    \n",
    "    \n",
    "    scaler = MinMaxScaler()\n",
    "    scaler.fit(ori_data)\n",
    "    \n",
    "    rows = len(seriesgan_result)\n",
    "    \n",
    "    reconstructed_data = np.zeros((rows, 5))  # Target shape\n",
    "    count = np.zeros((rows, 1))  # Count occurrences (shape (3661,1) to avoid broadcast issues)\n",
    "\n",
    "    # Step 5: Reconstruct original shape (3661, 6) by averaging overlapping chunk values\n",
    "    for i in range(rows):  # Iterate over each chunk\n",
    "        for j in range(24):  # Iterate over each time step in the chunk\n",
    "            if i + j < rows:\n",
    "                reconstructed_data[i + j] += seriesgan_result[i, j]  # Add each feature value\n",
    "                count[i + j] += 1  # Track how many times each row is summed\n",
    "\n",
    "    # Step 6: Compute the average where overlaps occur\n",
    "    reconstructed_data /= count  # Element-wise division to normalize overlapping entries\n",
    "\n",
    "    # Step 7: Apply inverse transformation using the fitted scaler\n",
    "    generated_data_restored = scaler.inverse_transform(reconstructed_data)  # Shape: (3661, 6)\n",
    "\n",
    "    # Convert to DataFrame for visualization\n",
    "    df_generated = pd.DataFrame(generated_data_restored, columns=[\"Open\", \"High\", \"Low\", \"Close\", \"Volume\"])\n",
    "    \n",
    "    \n",
    "    \n",
    "    folder = 'Generated Data'\n",
    "    \n",
    "    os.makedirs(folder, exist_ok=True)\n",
    "    \n",
    "    df_generated.to_csv(os.path.join(folder, f\"{stock}_generated.csv\"), index=False)"
   ]
  },
  {
   "cell_type": "code",
   "execution_count": 6,
   "id": "b196c170-3499-4a23-bc86-e28a63b0ec12",
   "metadata": {},
   "outputs": [],
   "source": [
    "AABA = pd.read_csv(\"./data/AABA.csv\")"
   ]
  },
  {
   "cell_type": "code",
   "execution_count": 15,
   "id": "df2727b8-db4f-4b6a-a714-ba60b44388f5",
   "metadata": {
    "tags": []
   },
   "outputs": [
    {
     "data": {
      "text/plain": [
       "0       24232729\n",
       "1       20553479\n",
       "2       12829610\n",
       "3       29422828\n",
       "4       16268338\n",
       "          ...   \n",
       "3014    10979165\n",
       "3015     8542802\n",
       "3016     6345124\n",
       "3017     7556877\n",
       "3018     6613070\n",
       "Name: Volume, Length: 3019, dtype: int64"
      ]
     },
     "execution_count": 15,
     "metadata": {},
     "output_type": "execute_result"
    }
   ],
   "source": [
    "AABA[\"Volume\"]"
   ]
  },
  {
   "cell_type": "code",
   "execution_count": 9,
   "id": "6769f67c-a103-4259-838f-fb7ec2903fb1",
   "metadata": {
    "tags": []
   },
   "outputs": [],
   "source": [
    "stock_data = pd.read_csv(\"./data/stock_data.csv\")"
   ]
  },
  {
   "cell_type": "code",
   "execution_count": 11,
   "id": "e6783b0c-73de-466c-9134-57d9c447339f",
   "metadata": {
    "tags": []
   },
   "outputs": [
    {
     "data": {
      "text/plain": [
       "0         49.676899\n",
       "1         50.178635\n",
       "2         55.017166\n",
       "3         55.260582\n",
       "4         52.140873\n",
       "           ...     \n",
       "3680    1207.479980\n",
       "3681    1205.939941\n",
       "3682    1214.989990\n",
       "3683    1207.890015\n",
       "3684    1196.000000\n",
       "Name: Open, Length: 3685, dtype: float64"
      ]
     },
     "execution_count": 11,
     "metadata": {},
     "output_type": "execute_result"
    }
   ],
   "source": [
    "stock_data[\"Open\"]"
   ]
  },
  {
   "cell_type": "code",
   "execution_count": 16,
   "id": "1e0801e3-f1f1-4725-842c-9785310262bf",
   "metadata": {
    "tags": []
   },
   "outputs": [],
   "source": [
    "ori_data = np.loadtxt(f'data/AABA.csv', delimiter = \",\",skiprows = 1)"
   ]
  },
  {
   "cell_type": "code",
   "execution_count": 17,
   "id": "ce76f865-ea74-4c6b-b6bb-7c85fc011187",
   "metadata": {
    "tags": []
   },
   "outputs": [
    {
     "data": {
      "text/plain": [
       "array([[3.9690000e+01, 4.1220000e+01, 3.8790000e+01, 4.0910000e+01,\n",
       "        2.4232729e+07],\n",
       "       [4.1220000e+01, 4.1900000e+01, 4.0770000e+01, 4.0970000e+01,\n",
       "        2.0553479e+07],\n",
       "       [4.0930000e+01, 4.1730000e+01, 4.0850000e+01, 4.1530000e+01,\n",
       "        1.2829610e+07],\n",
       "       ...,\n",
       "       [6.9770000e+01, 7.0490000e+01, 6.9690000e+01, 7.0060000e+01,\n",
       "        6.3451240e+06],\n",
       "       [7.0120000e+01, 7.0320000e+01, 6.9510000e+01, 6.9820000e+01,\n",
       "        7.5568770e+06],\n",
       "       [6.9790000e+01, 7.0130000e+01, 6.9430000e+01, 6.9850000e+01,\n",
       "        6.6130700e+06]])"
      ]
     },
     "execution_count": 17,
     "metadata": {},
     "output_type": "execute_result"
    }
   ],
   "source": [
    "ori_data"
   ]
  },
  {
   "cell_type": "code",
   "execution_count": 20,
   "id": "f4f00614-ccdf-4281-94ef-d669e22df01c",
   "metadata": {
    "tags": []
   },
   "outputs": [
    {
     "data": {
      "text/plain": [
       "array([5.86000e+01, 5.88000e+01, 5.81100e+01, 5.85000e+01, 4.16445e+06])"
      ]
     },
     "execution_count": 20,
     "metadata": {},
     "output_type": "execute_result"
    }
   ],
   "source": [
    "ori_data[2913]"
   ]
  },
  {
   "cell_type": "code",
   "execution_count": 18,
   "id": "6a757fe1-115e-4bbc-9121-b2d1560ce7c8",
   "metadata": {
    "tags": []
   },
   "outputs": [
    {
     "data": {
      "text/plain": [
       "Open           58.60\n",
       "High           58.80\n",
       "Low            58.11\n",
       "Close          58.50\n",
       "Volume    4164450.00\n",
       "Name: 2913, dtype: float64"
      ]
     },
     "execution_count": 18,
     "metadata": {},
     "output_type": "execute_result"
    }
   ],
   "source": [
    "AABA.iloc[2913]"
   ]
  },
  {
   "cell_type": "code",
   "execution_count": null,
   "id": "ef10b6c3-4081-4aaf-8817-561794482f37",
   "metadata": {},
   "outputs": [],
   "source": []
  }
 ],
 "metadata": {
  "kernelspec": {
   "display_name": "Python 3 (ipykernel)",
   "language": "python",
   "name": "python3"
  },
  "language_info": {
   "codemirror_mode": {
    "name": "ipython",
    "version": 3
   },
   "file_extension": ".py",
   "mimetype": "text/x-python",
   "name": "python",
   "nbconvert_exporter": "python",
   "pygments_lexer": "ipython3",
   "version": "3.11.4"
  }
 },
 "nbformat": 4,
 "nbformat_minor": 5
}
